{
 "cells": [
  {
   "cell_type": "code",
   "execution_count": 1,
   "id": "361e4359-1d06-48be-af0c-1fc3f36111e1",
   "metadata": {},
   "outputs": [],
   "source": [
    "salaries = ['20k', '40k', '50k', '60k', '35k', '89k','40k']"
   ]
  },
  {
   "cell_type": "code",
   "execution_count": 2,
   "id": "8b95c92d-c51d-4c6b-9c23-803905e94d3e",
   "metadata": {},
   "outputs": [
    {
     "data": {
      "text/plain": [
       "['20k', '40k', '50k', '60k', '35k', '89k', '40k']"
      ]
     },
     "execution_count": 2,
     "metadata": {},
     "output_type": "execute_result"
    }
   ],
   "source": [
    "salaries"
   ]
  },
  {
   "cell_type": "code",
   "execution_count": 3,
   "id": "1d73d38a-fa0c-45a3-b4a4-e881e25f8222",
   "metadata": {},
   "outputs": [
    {
     "data": {
      "text/plain": [
       "7"
      ]
     },
     "execution_count": 3,
     "metadata": {},
     "output_type": "execute_result"
    }
   ],
   "source": [
    "len(salaries)"
   ]
  },
  {
   "cell_type": "code",
   "execution_count": 4,
   "id": "a06151ec-da24-4ba3-8c62-437f9d6b8256",
   "metadata": {},
   "outputs": [
    {
     "data": {
      "text/plain": [
       "'60k'"
      ]
     },
     "execution_count": 4,
     "metadata": {},
     "output_type": "execute_result"
    }
   ],
   "source": [
    "salaries[3]"
   ]
  },
  {
   "cell_type": "code",
   "execution_count": 5,
   "id": "b36de5de-59fb-4873-89de-0ffab7e8f541",
   "metadata": {},
   "outputs": [
    {
     "data": {
      "text/plain": [
       "'40k'"
      ]
     },
     "execution_count": 5,
     "metadata": {},
     "output_type": "execute_result"
    }
   ],
   "source": [
    "salaries[-1]"
   ]
  },
  {
   "cell_type": "code",
   "execution_count": 6,
   "id": "9863c2c1-d8d0-4b55-8baf-558511f39dc7",
   "metadata": {},
   "outputs": [
    {
     "data": {
      "text/plain": [
       "['50k', '60k', '35k']"
      ]
     },
     "execution_count": 6,
     "metadata": {},
     "output_type": "execute_result"
    }
   ],
   "source": [
    "salaries[2:5]"
   ]
  },
  {
   "cell_type": "code",
   "execution_count": 7,
   "id": "edc43e2f-112b-4604-8067-ddd2f02461b2",
   "metadata": {},
   "outputs": [],
   "source": [
    "salaries=['20k', '40k', '50k', '60k', '35k', '89k', '40k']"
   ]
  },
  {
   "cell_type": "code",
   "execution_count": 8,
   "id": "83ea7fff-1d41-4661-a06b-825f6454676e",
   "metadata": {},
   "outputs": [],
   "source": [
    "salaries.append('100k')"
   ]
  },
  {
   "cell_type": "code",
   "execution_count": 9,
   "id": "6b818264-c09f-44f7-a23e-81f83a0b8bd2",
   "metadata": {},
   "outputs": [
    {
     "data": {
      "text/plain": [
       "['20k', '40k', '50k', '60k', '35k', '89k', '40k', '100k']"
      ]
     },
     "execution_count": 9,
     "metadata": {},
     "output_type": "execute_result"
    }
   ],
   "source": [
    "salaries"
   ]
  },
  {
   "cell_type": "code",
   "execution_count": 10,
   "id": "04fd31bd-51f4-4c3c-aee8-f5bc4c474475",
   "metadata": {},
   "outputs": [],
   "source": [
    "salaries=salaries+['120k']"
   ]
  },
  {
   "cell_type": "code",
   "execution_count": 11,
   "id": "75065ee4-2950-4048-a350-a7526977a504",
   "metadata": {},
   "outputs": [
    {
     "data": {
      "text/plain": [
       "['20k', '40k', '50k', '60k', '35k', '89k', '40k', '100k', '120k']"
      ]
     },
     "execution_count": 11,
     "metadata": {},
     "output_type": "execute_result"
    }
   ],
   "source": [
    "salaries"
   ]
  },
  {
   "cell_type": "code",
   "execution_count": 12,
   "id": "dd76c999-0141-4820-ad1b-daa8e77f058b",
   "metadata": {},
   "outputs": [
    {
     "name": "stdout",
     "output_type": "stream",
     "text": [
      "['20k', '40k', '50k', '55k', '35k', '89k', '40k', '100k', '120k']\n"
     ]
    }
   ],
   "source": [
    "salaries[3]='55k'\n",
    "print(salaries)"
   ]
  },
  {
   "cell_type": "code",
   "execution_count": 13,
   "id": "d5fb3c6c-7315-4c90-a71d-93f880e8610a",
   "metadata": {},
   "outputs": [
    {
     "data": {
      "text/plain": [
       "2"
      ]
     },
     "execution_count": 13,
     "metadata": {},
     "output_type": "execute_result"
    }
   ],
   "source": [
    "salaries.count('40k')"
   ]
  },
  {
   "cell_type": "code",
   "execution_count": 14,
   "id": "974df0e0-86fd-4a3f-ae78-4e2caa7138f8",
   "metadata": {},
   "outputs": [],
   "source": [
    "salaries=['20k', '40k', '50k', '55k', '35k', '89k', '40k', '100k', '120k']"
   ]
  },
  {
   "cell_type": "code",
   "execution_count": 38,
   "id": "732ba699-066c-4573-80ff-38dddbb6806e",
   "metadata": {},
   "outputs": [],
   "source": [
    "salaries.insert(1,'70k')"
   ]
  },
  {
   "cell_type": "code",
   "execution_count": 40,
   "id": "26e29fd3-56c2-4463-898e-314b404ef19a",
   "metadata": {},
   "outputs": [
    {
     "data": {
      "text/plain": [
       "['120k', '70k', '100k', '40k', '89k', '35k', '55k', '50k', '40k', '70k', '20k']"
      ]
     },
     "execution_count": 40,
     "metadata": {},
     "output_type": "execute_result"
    }
   ],
   "source": [
    "salaries"
   ]
  },
  {
   "cell_type": "code",
   "execution_count": 17,
   "id": "4cb372d2-6de6-4e68-a9fe-887b46653212",
   "metadata": {},
   "outputs": [
    {
     "name": "stdout",
     "output_type": "stream",
     "text": [
      "['120k', '100k', '40k', '89k', '35k', '55k', '50k', '40k', '70k', '20k']\n"
     ]
    }
   ],
   "source": [
    "print(salaries[::-1])"
   ]
  },
  {
   "cell_type": "code",
   "execution_count": 18,
   "id": "07cdc7fc-5b72-4e23-a1c7-608c7f66bfce",
   "metadata": {},
   "outputs": [
    {
     "name": "stdout",
     "output_type": "stream",
     "text": [
      "['120k', '100k', '40k', '89k', '35k', '55k', '50k', '40k', '70k', '20k']\n"
     ]
    }
   ],
   "source": [
    "salaries.reverse()\n",
    "print(salaries)"
   ]
  },
  {
   "cell_type": "code",
   "execution_count": null,
   "id": "fa824121-df7c-46a5-975b-5b4032cf8d43",
   "metadata": {},
   "outputs": [],
   "source": []
  }
 ],
 "metadata": {
  "kernelspec": {
   "display_name": "Python 3 (ipykernel)",
   "language": "python",
   "name": "python3"
  },
  "language_info": {
   "codemirror_mode": {
    "name": "ipython",
    "version": 3
   },
   "file_extension": ".py",
   "mimetype": "text/x-python",
   "name": "python",
   "nbconvert_exporter": "python",
   "pygments_lexer": "ipython3",
   "version": "3.12.7"
  }
 },
 "nbformat": 4,
 "nbformat_minor": 5
}
