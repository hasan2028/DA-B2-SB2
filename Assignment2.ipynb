{
 "cells": [
  {
   "cell_type": "code",
   "execution_count": 52,
   "id": "b7e647c7-b48e-40ee-b6ce-cd440da74b11",
   "metadata": {},
   "outputs": [
    {
     "name": "stdin",
     "output_type": "stream",
     "text": [
      "age:  67\n"
     ]
    },
    {
     "name": "stdout",
     "output_type": "stream",
     "text": [
      "Senior\n"
     ]
    }
   ],
   "source": [
    "#Question1\n",
    "\n",
    "age=int(input(\"age: \"))\n",
    "if age>=0 and age<=12:\n",
    "    print(\"child\")\n",
    "elif age>=13 and age<=19:\n",
    "    print(\"Teenager\")\n",
    "elif age>=20 and age<=65:\n",
    "    print(\"Adult\")\n",
    "elif age>65:\n",
    "    print(\"Senior\")\n"
   ]
  },
  {
   "cell_type": "code",
   "execution_count": 77,
   "id": "25224493-5a7c-422a-a1ac-95effba8c63a",
   "metadata": {},
   "outputs": [
    {
     "name": "stdin",
     "output_type": "stream",
     "text": [
      "amount:  500\n",
      "membership:  regular\n"
     ]
    },
    {
     "name": "stdout",
     "output_type": "stream",
     "text": [
      "you are not elegible\n"
     ]
    }
   ],
   "source": [
    "#Question2\n",
    "\n",
    "ms1=\"premium\" \n",
    "ms2=\"regular\"\n",
    "discount=int(input(\"amount: \"))\n",
    "membership=str(input(\"membership: \"))\n",
    "if (ms1==\"premium\") and (discount>=1000) and (ms2==\"regular\") and (discount>=2000):\n",
    "    print(\"you are eligible\")\n",
    "else:\n",
    "    print(\"you are not elegible\")"
   ]
  },
  {
   "cell_type": "code",
   "execution_count": 160,
   "id": "a4dbcda3-26a6-42fa-bacd-0243a2379e69",
   "metadata": {},
   "outputs": [
    {
     "name": "stdin",
     "output_type": "stream",
     "text": [
      "age:  16\n",
      "citizenship_status:  non-citizen\n"
     ]
    },
    {
     "name": "stdout",
     "output_type": "stream",
     "text": [
      "Not elegible to vote\n"
     ]
    }
   ],
   "source": [
    "#Question3\n",
    "\n",
    "citi1=\"citizen\" \n",
    "citi2=\"non-citizen\"\n",
    "age=int(input(\"age: \"))\n",
    "citizenship_status=str(input(\"citizenship_status: \"))\n",
    "if (citi1==\"citizen\") and (age>18) and (citi2==\"non-citizen\") and (age>16):\n",
    "    print(\"eligible to vote\")\n",
    "else:\n",
    "    print(\"Not elegible to vote\")\n",
    "    "
   ]
  },
  {
   "cell_type": "code",
   "execution_count": 174,
   "id": "84cb294d-0654-484a-b887-126b7443bab0",
   "metadata": {},
   "outputs": [
    {
     "name": "stdout",
     "output_type": "stream",
     "text": [
      "not eleigble for bonus\n"
     ]
    }
   ],
   "source": [
    "#Question4\n",
    "\n",
    "performance = \"excellent\"\n",
    "yos=2\n",
    "\n",
    "if (performance==\"excellent\") and (yos>=5) or (performance==\"good\") and (yos>=10) or (performance==\"satisfactory\")and(yos>=15):\n",
    "    print(\"eligible for bonus\")\n",
    "    \n",
    "else:\n",
    "    print(\"not eleigble for bonus\")"
   ]
  },
  {
   "cell_type": "code",
   "execution_count": 216,
   "id": "451d4368-4e80-4acd-9aa3-a2d27a59c9ad",
   "metadata": {},
   "outputs": [
    {
     "name": "stdout",
     "output_type": "stream",
     "text": [
      "I'm_learning_Python_Programming\n",
      "3\n",
      "3\n"
     ]
    }
   ],
   "source": [
    "#Question5\n",
    "\n",
    "session=\"I'm learning Python Programming\"\n",
    "session2=session.replace(\" \",\"_\")\n",
    "print(session2)\n",
    "count=session2.count(\"_\")\n",
    "print(count)\n",
    "find=session2.find(\"_\")\n",
    "print(find)"
   ]
  },
  {
   "cell_type": "code",
   "execution_count": 248,
   "id": "3dd4b881-d24a-4c78-a29a-49b9781d14bf",
   "metadata": {},
   "outputs": [
    {
     "name": "stdout",
     "output_type": "stream",
     "text": [
      "my name is ha\n",
      "m aei aa\n",
      "nasah si eman ym\n"
     ]
    }
   ],
   "source": [
    "#Question6\n",
    "\n",
    "x=(str)(\"my name is hasan\")\n",
    "print(x[0:13])\n",
    "print(x[ ::2])\n",
    "print(x[::-1])"
   ]
  },
  {
   "cell_type": "code",
   "execution_count": 292,
   "id": "5f0fbdba-7b3c-46b8-8bba-8aee0080327f",
   "metadata": {},
   "outputs": [
    {
     "name": "stdout",
     "output_type": "stream",
     "text": [
      "nohtyP gninrael era eW ,dlroW olleH\n"
     ]
    }
   ],
   "source": [
    "#Question7\n",
    "\n",
    "text=\"Hello World, We are learning Python\"\n",
    "print(text[::-1])"
   ]
  },
  {
   "cell_type": "code",
   "execution_count": 304,
   "id": "c8cf8de4-e392-451e-8163-c65b5969279b",
   "metadata": {},
   "outputs": [
    {
     "name": "stdout",
     "output_type": "stream",
     "text": [
      "-12345-\n"
     ]
    }
   ],
   "source": [
    "#Question8\n",
    "\n",
    "x=\"SKU-12345-XYZ\"\n",
    "y=x.replace('SKU','').replace('XYZ',\"\")\n",
    "print(y)"
   ]
  },
  {
   "cell_type": "code",
   "execution_count": null,
   "id": "a6b1c0b1-39e7-4707-ae4a-9a8603b45e42",
   "metadata": {},
   "outputs": [],
   "source": [
    "#Question9\n",
    "\n",
    "password =input(\"Enter your password\")\n",
    "\n",
    "if password>'A'and password <='Z':\n",
    "    print(\"password contains upper case\")\n",
    "\n",
    "elif password>'a'and password <='z':\n",
    "    print(\"password contains lower case\")\n",
    "elif password>'0'and password <='9':\n",
    "    print(\"password contains number\")\n",
    "elif password ==' ':\n",
    "    print(\"password contains space\")\n",
    "else:\n",
    "    print(\"Special Character\")"
   ]
  },
  {
   "cell_type": "code",
   "execution_count": 346,
   "id": "b7fa6692-9e0b-468b-afb7-03a5cf3f8ea8",
   "metadata": {},
   "outputs": [
    {
     "name": "stdout",
     "output_type": "stream",
     "text": [
      "programming\n"
     ]
    }
   ],
   "source": [
    "#Question10\n",
    "\n",
    "x=(\"I love programming in Python\")\n",
    "y=x.split()\n",
    "print(max(y))"
   ]
  },
  {
   "cell_type": "code",
   "execution_count": null,
   "id": "6dfcd8b5-cf9a-491b-b2f8-63de3da23173",
   "metadata": {},
   "outputs": [],
   "source": []
  }
 ],
 "metadata": {
  "kernelspec": {
   "display_name": "Python 3 (ipykernel)",
   "language": "python",
   "name": "python3"
  },
  "language_info": {
   "codemirror_mode": {
    "name": "ipython",
    "version": 3
   },
   "file_extension": ".py",
   "mimetype": "text/x-python",
   "name": "python",
   "nbconvert_exporter": "python",
   "pygments_lexer": "ipython3",
   "version": "3.12.7"
  }
 },
 "nbformat": 4,
 "nbformat_minor": 5
}
