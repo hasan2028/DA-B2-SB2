{
 "cells": [
  {
   "cell_type": "code",
   "execution_count": 151,
   "id": "574a2587-85cd-41db-bca8-7197e3b29aef",
   "metadata": {},
   "outputs": [
    {
     "name": "stdin",
     "output_type": "stream",
     "text": [
      "Enter your age:  18\n",
      "Enter your credit score:  700\n",
      "Enter your annual income:  25000\n"
     ]
    },
    {
     "name": "stdout",
     "output_type": "stream",
     "text": [
      "Eligible for loan: Credit score is high enough, and income meets the requirement.\n"
     ]
    }
   ],
   "source": [
    "#Q1. Write program to check a person’s eligibility for a loan based on age, credit score, and income. This time, the \n",
    "#eligibility criteria will be:  The person must be 18 years or older. The person must have a credit score of 650 or higher. The person must have \n",
    "#an annual income of at least 30000 dollars If the person has a credit score of 700 or higher, they may still be eligible \n",
    "#with an income of 25000 dollars or more.\n",
    "\n",
    "age = int(input(\"Enter your age: \"))\n",
    "credit_score = int(input(\"Enter your credit score: \"))\n",
    "annual_income = float(input(\"Enter your annual income: \"))\n",
    "\n",
    "# Check if the person is 18 years or older\n",
    "if age < 18:\n",
    "    print(\"Not eligible: Must be 18 years or older.\")\n",
    "else:\n",
    "    # Check eligibility based on credit score and income\n",
    "    if credit_score >= 700:\n",
    "        # If credit score is 700 or higher, the income requirement is $25,000\n",
    "        if annual_income >= 25000:\n",
    "            print(\"Eligible for loan: Credit score is high enough, and income meets the requirement.\")\n",
    "        else:\n",
    "            print(\"Not eligible: Income must be at least $25,000.\")\n",
    "    elif credit_score >= 650:\n",
    "        # If credit score is between 650 and 699, the income requirement is $30,000\n",
    "        if annual_income >= 30000:\n",
    "            print(\"Eligible for loan: Credit score is acceptable, and income meets the requirement.\")\n",
    "        else:\n",
    "            print(\"Not eligible: Income must be at least $30,000.\")\n",
    "    else:\n",
    "        print(\"Not eligible: Credit score is too low.\")\n"
   ]
  },
  {
   "cell_type": "code",
   "execution_count": 153,
   "id": "b4c47622-0dd1-4912-a060-e6cd0ba8f5b0",
   "metadata": {},
   "outputs": [
    {
     "name": "stdin",
     "output_type": "stream",
     "text": [
      "Enter your age:  18\n",
      "Enter your years of experience:  5\n"
     ]
    },
    {
     "name": "stdout",
     "output_type": "stream",
     "text": [
      "You have moderate experience.\n"
     ]
    }
   ],
   "source": [
    "# Q2. Write a Python program that checks if a person is an adult (age ≥ 18).\n",
    " # Take the age as input.\n",
    " # If the person is underage (age < 18), show message: \"You are underage\" and don't ask for experience.\n",
    " # If the person is an adult, take years of experience as input and print:\n",
    " # \"You have a lot of experience.\" (10+ years)\n",
    " # \"You have moderate experience.\" (5-9 years)\n",
    " # \"You are relatively new.\" (2-4 years)\n",
    " # \"You are just starting out.\" (less than 2 years)\n",
    "\n",
    "age = int(input(\"Enter your age: \"))\n",
    "\n",
    "if age < 18:\n",
    "    print(\"You are underage.\")\n",
    "else:\n",
    "    experience = int(input(\"Enter your years of experience: \"))\n",
    "    \n",
    "    if experience >= 10:\n",
    "        print(\"You have a lot of experience.\")\n",
    "    elif experience >= 5:\n",
    "        print(\"You have moderate experience.\")\n",
    "    elif experience >= 2:\n",
    "        print(\"You are relatively new.\")\n",
    "    else:\n",
    "        print(\"You are just starting out.\")\n"
   ]
  },
  {
   "cell_type": "code",
   "execution_count": 189,
   "id": "f358c760-c428-43a0-be48-00d61a430f8e",
   "metadata": {},
   "outputs": [
    {
     "name": "stdout",
     "output_type": "stream",
     "text": [
      "True\n",
      "140725673667000\n",
      "140725673667000\n",
      "88\n",
      "[<class 'int'>]\n"
     ]
    }
   ],
   "source": [
    "# # Q3. Write a program to explore below variables\n",
    "#  a) Print their memory address (to check if python assigns same address of different variables having same element)\n",
    "#  b) Find memory size and append them in a list, use this list to find data type having least memory size\n",
    "#  c) Print final name of data type which has lowest memory\n",
    "#  Result will help a programmer to decide which variable is storing less memory and variable locations\n",
    "\n",
    "a=1\n",
    "b=1\n",
    "print(a is b)\n",
    "print (id(a))\n",
    "print (id(b))\n",
    "\n",
    "var_list=[1,2,3]\n",
    "print(sys.getsizeof(var_list))\n",
    "\n",
    "var_list = [1, 2, 3]    # List\n",
    "memory_sizes = []\n",
    "memory_sizes.append(type(sys.getsizeof(var_list)))\n",
    "print(memory_sizes)"
   ]
  },
  {
   "cell_type": "code",
   "execution_count": 183,
   "id": "c21e6850-be7e-4b6a-bbbf-bd4fd7d28be6",
   "metadata": {},
   "outputs": [
    {
     "name": "stdin",
     "output_type": "stream",
     "text": [
      "Enter your email address:  hasan.siddiqui@bankislami.com.pk\n"
     ]
    },
    {
     "name": "stdout",
     "output_type": "stream",
     "text": [
      "Email format is valid.\n"
     ]
    }
   ],
   "source": [
    "#  Q4. Write a Python program that asks the user to enter an email address. The program should check if the email \n",
    "# contains the characters @ and \".\" (ignoring case). If either character is present, print \"Email format is valid.\" \n",
    "# Otherwise, print \"Invalid email format.\"\n",
    "\n",
    "email = input(\"Enter your email address: \")\n",
    "\n",
    "# Check if both '@' and '.' are in the email address (ignoring case)\n",
    "if '@' in email and '.' in email:\n",
    "    print(\"Email format is valid.\")\n",
    "else:\n",
    "    print(\"Invalid email format.\")"
   ]
  },
  {
   "cell_type": "code",
   "execution_count": 185,
   "id": "fba5997b-3e55-4a07-a9bc-0303f82c2cf1",
   "metadata": {},
   "outputs": [
    {
     "name": "stdout",
     "output_type": "stream",
     "text": [
      "Data types of tuple elements: [<class 'int'>, <class 'float'>, <class 'str'>, <class 'list'>, <class 'tuple'>]\n"
     ]
    }
   ],
   "source": [
    "#  Q5. Write a python program to know data type of each element stored in a tuple, append the data types in a list. \n",
    "# Show final output in a list as data types of tuple elements\n",
    "#  x = (11,22.333,'apple',[1,2,3],('a','b\n",
    "\n",
    "# Define the tuple\n",
    "x = (11, 22.333, 'apple', [1, 2, 3], ('a', 'b'))\n",
    "\n",
    "# List to store data types\n",
    "data_types = []\n",
    "\n",
    "# Iterate over each element in the tuple and append its type to the list\n",
    "for element in x:\n",
    "    data_types.append(type(element))\n",
    "\n",
    "# Print the list of data types\n",
    "print(\"Data types of tuple elements:\", data_types)"
   ]
  },
  {
   "cell_type": "code",
   "execution_count": 223,
   "id": "bdf6bf7b-48f1-40d2-be05-507b84accf78",
   "metadata": {},
   "outputs": [
    {
     "name": "stdin",
     "output_type": "stream",
     "text": [
      "Enter your username:  alice\n"
     ]
    },
    {
     "name": "stdout",
     "output_type": "stream",
     "text": [
      "User exists.\n",
      "User is the admin.\n"
     ]
    }
   ],
   "source": [
    "# Q6. Write a Python program that:\n",
    "#  Checks if a given username exists in a list of active users.\n",
    "#  Verifies if the user is the admin using identity operators.\n",
    "#  Hints:\n",
    "#  Use a list of tuples where each tuple contains a username and role\n",
    "#  [(\"alice\", \"admin\"),\n",
    "#  (\"bob\", \"user\"),\n",
    "#  (\"charlie\", \"moderator\")]\n",
    "#  Use the in operator to check if the username exists in the list.\n",
    "#  Use the is operator to check if the user is the admin (admin is a specific reference, e.g., (\"alice\", \"admin\"))\n",
    "\n",
    "# List of active users with their roles\n",
    "active_users = [\n",
    "    (\"alice\", \"admin\"),\n",
    "    (\"bob\", \"user\"),\n",
    "    (\"charlie\", \"moderator\")\n",
    "]\n",
    "\n",
    "# Get the username input from the user\n",
    "username = input(\"Enter your username: \")\n",
    "\n",
    "# Check if the username exists in the list using the 'in' operator\n",
    "user_found = any(user[0] == username for user in active_users)\n",
    "\n",
    "# Check if the user is the admin using the 'is' operator\n",
    "admin_found = any(user[0] == username and user[1] == \"admin\" for user in active_users)\n",
    "\n",
    "# Display results\n",
    "if user_found:\n",
    "    print(\"User exists.\")\n",
    "else:\n",
    "    print(\"User does not exist.\")\n",
    "\n",
    "if admin_found:\n",
    "    print(\"User is the admin.\")\n",
    "else:\n",
    "    print(\"User is not the admin.\")\n"
   ]
  },
  {
   "cell_type": "code",
   "execution_count": 229,
   "id": "1f3ce7fc-ab3b-4f56-8d0b-03073599eec9",
   "metadata": {},
   "outputs": [
    {
     "name": "stdout",
     "output_type": "stream",
     "text": [
      "The relations could not be determined.\n"
     ]
    }
   ],
   "source": [
    "# Q7. person1 has same family as of person2, write a program to print relation between person1 and person2, if their \n",
    "# data is ['father name','mother name','district','family number'] same (Print relation 'Siblings') also check person1 \n",
    "# data with person3 which is cousin of person1 (Print relation 'Cousin')\n",
    "#  Hint:\n",
    "#  Use identity operator\n",
    "\n",
    "# Define the family data for each person\n",
    "person1 = ['John', 'Alisa', 'Sindh', '12345']\n",
    "person2 = ['John', 'Alisa', 'Sindh', '12345']\n",
    "person3 = ['John', 'Alisa', 'Sindh', '12346']\n",
    "\n",
    "# Check if person1 and person2 have the same family data (siblings check)\n",
    "if person1 is person2:\n",
    "    print(\"Relation between person1 and person2: Siblings\")\n",
    "\n",
    "# Check if person1 and person3 have the same family data (cousins check)\n",
    "elif person1 is person3:\n",
    "    print(\"Relation between person1 and person3: Cousin\")\n",
    "\n",
    "else:\n",
    "    print(\"The relations could not be determined.\")"
   ]
  },
  {
   "cell_type": "code",
   "execution_count": 231,
   "id": "123e8030-5ab5-4f91-a8fa-65f99b4d4dd6",
   "metadata": {},
   "outputs": [
    {
     "name": "stdin",
     "output_type": "stream",
     "text": [
      "Enter the book's title:  Pakistan\n",
      "Enter the author's name:  Asif\n",
      "Enter the year of publication:  2022\n",
      "Enter the price of the book (e.g., PKR400):  600\n"
     ]
    },
    {
     "name": "stdout",
     "output_type": "stream",
     "text": [
      "Title: Pakistan\n",
      "Author: Asif\n",
      "Year of Publication: 2022\n",
      "Price: 600\n"
     ]
    }
   ],
   "source": [
    "# Q.8 Write a Python program to store and display a book's title, author, year of publication, and price using a tuple.\n",
    "#  Instructions:\n",
    "#  Create a tuple to store the book details.\n",
    "#  Ask the user for the book's title, author, year, and price.\n",
    "#  Display the stored book information.\n",
    "\n",
    "\n",
    "# Ask the user for book details\n",
    "title = input(\"Enter the book's title: \")\n",
    "author = input(\"Enter the author's name: \")\n",
    "year = input(\"Enter the year of publication: \")\n",
    "price = input(\"Enter the price of the book (e.g., PKR400): \")\n",
    "\n",
    "# Create a tuple to store the book details\n",
    "book_details = (title, author, year, price)\n",
    "\n",
    "# Display the stored book information\n",
    "print(\"Title:\", book_details[0])\n",
    "print(\"Author:\", book_details[1])\n",
    "print(\"Year of Publication:\", book_details[2])\n",
    "print(\"Price:\", book_details[3])"
   ]
  },
  {
   "cell_type": "code",
   "execution_count": 219,
   "id": "46aa8247-97f8-4832-b33d-24915df42da4",
   "metadata": {},
   "outputs": [
    {
     "name": "stdin",
     "output_type": "stream",
     "text": [
      "Enter the subject you want to check:  Biology\n"
     ]
    },
    {
     "name": "stdout",
     "output_type": "stream",
     "text": [
      "The subject is available.\n"
     ]
    }
   ],
   "source": [
    " # Q9. Write a program to check if a user’s chosen subject is available in the list of offered subjects.\n",
    " # Instructions:\n",
    " # Given a list of subjects, ask the user to input a subject.\n",
    " # Display whether the subject is available or not.\n",
    "\n",
    "# List of offered subjects\n",
    "offered_subjects = ['Mathematics', 'Urdu', 'Chemistry', 'Biology', 'English', 'sindhi']\n",
    "\n",
    "# Ask the user for their chosen subject\n",
    "chosen_subject = input(\"Enter the subject you want to check: \")\n",
    "\n",
    "# Check if the chosen subject is in the list of offered subjects\n",
    "if chosen_subject in offered_subjects:\n",
    "    print(\"The subject is available.\")\n",
    "else:\n",
    "    print(\"The subject is not available.\")\n"
   ]
  },
  {
   "cell_type": "code",
   "execution_count": 221,
   "id": "10f7c60f-2d7c-4944-bad0-1fb00a99e9f8",
   "metadata": {},
   "outputs": [
    {
     "name": "stdin",
     "output_type": "stream",
     "text": [
      "Enter a number to find its first occurrence index:  10\n"
     ]
    },
    {
     "name": "stdout",
     "output_type": "stream",
     "text": [
      "The first occurrence of the number 10 is at index: 0\n"
     ]
    },
    {
     "name": "stdin",
     "output_type": "stream",
     "text": [
      "Enter another number to count its occurrences:  60\n"
     ]
    },
    {
     "name": "stdout",
     "output_type": "stream",
     "text": [
      "The number 60 appears 1 times in the tuple.\n"
     ]
    }
   ],
   "source": [
    " # Q10. Write a Python program that performs the following tasks using tuple methods\n",
    " # Create a tuple with multiple integer values, including duplicates.\n",
    " # Prompt the user to input a number and find the index of its first occurrence in the tuple.\n",
    " # Ask the user for another number and count how many times it appears in the tuple.\n",
    " # Display appropriate messages based on the results\n",
    "\n",
    "# Create a tuple with multiple integer values (including duplicates)\n",
    "numbers_tuple = (5, 10, 10, 30, 50, 50, 80, 10, 60)\n",
    "\n",
    "# Prompt the user to input a number and find the index of its first occurrence\n",
    "user_number_1 = int(input(\"Enter a number to find its first occurrence index: \"))\n",
    "\n",
    "# Check if the number exists in the tuple\n",
    "if user_number_1 in numbers_tuple:\n",
    "    index = numbers_tuple.index(user_number_1)\n",
    "    print(\"first occurrence of the number\", user_number_1, \"is at index:\", index)\n",
    "else:\n",
    "    print(\"The number\", user_number_1, \"is not present in the tuple.\")\n",
    "\n",
    "# Prompt the user for another number and count how many times it appears\n",
    "user_number_2 = int(input(\"Enter another number to count its occurrences: \"))\n",
    "\n",
    "# Count the occurrences of the number in the tuple\n",
    "count = numbers_tuple.count(user_number_2)\n",
    "\n",
    "# Display the result\n",
    "if count > 0:\n",
    "    print(\"The number\", user_number_2, \"appears\", count, \"times in the tuple.\")\n",
    "else:\n",
    "    print(\"The number\", user_number_2, \"does not appear in the tuple.\")"
   ]
  },
  {
   "cell_type": "code",
   "execution_count": null,
   "id": "3084b724-d1a5-4b36-b3ac-fbe969f5aa12",
   "metadata": {},
   "outputs": [],
   "source": []
  }
 ],
 "metadata": {
  "kernelspec": {
   "display_name": "Python 3 (ipykernel)",
   "language": "python",
   "name": "python3"
  },
  "language_info": {
   "codemirror_mode": {
    "name": "ipython",
    "version": 3
   },
   "file_extension": ".py",
   "mimetype": "text/x-python",
   "name": "python",
   "nbconvert_exporter": "python",
   "pygments_lexer": "ipython3",
   "version": "3.12.7"
  }
 },
 "nbformat": 4,
 "nbformat_minor": 5
}
